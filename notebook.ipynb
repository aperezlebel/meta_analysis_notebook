{
 "cells": [
  {
   "cell_type": "markdown",
   "metadata": {},
   "source": [
    "# A guide to neuroimaging meta-analysis"
   ]
  },
  {
   "cell_type": "markdown",
   "metadata": {},
   "source": [
    "## Alexandre Perez \n",
    "Neuro-Data Science - ORIGAMI lab"
   ]
  },
  {
   "cell_type": "markdown",
   "metadata": {},
   "source": [
    "## Foreword"
   ]
  },
  {
   "cell_type": "markdown",
   "metadata": {},
   "source": [
    "In neuroimaging, meta-analysis is an essential tool to better synthesize literature results and to answer the recurrent issue of the lack of reproductibility of studies conducted on a small number of subjects.  \n",
    "This notebook gathers and explains some well known meta-analysis techniques, discusses their limitations and applies them to real fMRI data. Neuroimaging meta-analysis are divided into two types: coordinate-based meta-analysis (CBMA) and image-based meta-analysis (IBMA); so is this notebook.\n",
    "\n",
    "**Warning**:  \n",
    "In order to illustrate the techniques, operations have been coded in an **inefficient** way in this notebook for the sake of clarity. Do not reuse the provided code for real analysis. These techniques have been coded in a more efficient and complete way in the python package NiMARE. The use of this package is strongly recommanded and is illustrated at the end of the notebook. "
   ]
  },
  {
   "cell_type": "markdown",
   "metadata": {},
   "source": [
    "### Requirements and installation\n",
    "\n",
    "If you run this notebook on Binder, then everything is all set. However, if you run it manually, please refer to the Readme instructions in the repository to install the required dependencies."
   ]
  },
  {
   "cell_type": "markdown",
   "metadata": {},
   "source": [
    "## Data"
   ]
  },
  {
   "cell_type": "markdown",
   "metadata": {},
   "source": [
    "Before getting to the heart of the matter, let's load the data that will be used to illustrate the techniques. On first reading, one can jump to the next section: **Coordinate-based meta-analysis**."
   ]
  },
  {
   "cell_type": "code",
   "execution_count": null,
   "metadata": {},
   "outputs": [],
   "source": [
    "%matplotlib inline\n",
    "import warnings\n",
    "warnings.filterwarnings(\"ignore\", category=FutureWarning)\n",
    "\n",
    "import os\n",
    "from os import path as osp\n",
    "import multiprocessing\n",
    "from joblib import Parallel, delayed\n",
    "import nilearn\n",
    "import numpy as np\n",
    "from nilearn import masking, plotting\n",
    "from nipy.labs.statistical_mapping import get_3d_peaks\n",
    "import nibabel as nib\n",
    "import scipy\n",
    "from matplotlib import pyplot as plt\n",
    "import ntpath\n",
    "from nimare.dataset import Dataset\n",
    "import nimare\n",
    "import copy\n",
    "import shutil\n",
    "\n",
    "# Some global variables used in the notebook\n",
    "input_dir = 'data/sim/'  # Studies' directory at the git repository root\n",
    "study_filename = 'study_'  # Template of a study image: f'{study_filename}_{i}.nii.gz'\n",
    "template = nilearn.datasets.load_mni152_template()\n",
    "Ni, Nj, Nk = template.shape\n",
    "affine = template.affine\n",
    "gray_mask = masking.compute_gray_matter_mask(template)\n"
   ]
  },
  {
   "cell_type": "markdown",
   "metadata": {},
   "source": [
    "### Required data structure"
   ]
  },
  {
   "cell_type": "markdown",
   "metadata": {},
   "source": [
    "The dataset is a set of 10 studies that have been entirely simulated from a real base image, from the study's map to each of the subjects' maps (not reported here). The simulation was performed by adding normal noise, previously smoothed with a gaussian kernel, to the base image. From the simulated subjects (a total of 10 for each study), the standard deviation map was derived.\n",
    "\n",
    "The data, located at the root of the repo, follow the following structure:\n",
    "```\n",
    "root_of_repo/\n",
    "    notebook.ipynb\n",
    "    data/\n",
    "        ...\n",
    "        sim/\n",
    "            study_0.nii.gz\n",
    "            study_0_con.nii.gz\n",
    "            study_0_se.nii.gz\n",
    "            study_1.nii.gz\n",
    "            study_1_con.nii.gz\n",
    "            study_1_se.nii.gz\n",
    "            ...\n",
    "```\n",
    "Where \n",
    "- `study_i.nii.gz` is the z map file of the i-th study.\n",
    "- `study_i_con.nii.gz`is the contrast map file of the i-th study.\n",
    "- `study_i_se.nii.gz`is the standard deviation map of the subjects of the i-th study.\n",
    "\n",
    "Note that you can change both the data directory and the template names at the beginning of this notebook. However, your custom filenames still would have to meet the naming requirements `prefix_i_type.nii.gz` where:\n",
    "- `prefix` is custom.\n",
    "- `i` is the index of the study.\n",
    "- `type` is the map's type (z: empty string, contrast: `con`, standard deviation: `se`)"
   ]
  },
  {
   "cell_type": "markdown",
   "metadata": {},
   "source": [
    "### Construct list of images paths"
   ]
  },
  {
   "cell_type": "code",
   "execution_count": null,
   "metadata": {},
   "outputs": [],
   "source": [
    "# retrieve path of images in the data directory\n",
    "img_paths = []\n",
    "i = 0\n",
    "\n",
    "while True:\n",
    "    path = os.path.abspath(f'{input_dir}{study_filename}{i}.nii.gz')\n",
    "    \n",
    "    if not os.path.isfile(path):\n",
    "        break\n",
    "    \n",
    "    img_paths.append(path)\n",
    "    i += 1\n",
    "    \n",
    "N_img = len(img_paths)"
   ]
  },
  {
   "cell_type": "markdown",
   "metadata": {},
   "source": [
    "### Extract peaks"
   ]
  },
  {
   "cell_type": "markdown",
   "metadata": {},
   "source": [
    "The provided data contains the full brain images (with same dimension as the MNI template image). This is perfect for image-based meta-analysis methods but not for coordinate-based ones. To demonstrate the coordinate-based meta-analysis (CBMA) techniques we need to extract from these images the peaks' coordinates. Then we will also be able to run the CBMA methods on the provided data.\n",
    "\n",
    "To do so, we use the `get_3D_peaks` function of the `nipy.labs.statistical_mapping` module of the `nipy` package."
   ]
  },
  {
   "cell_type": "code",
   "execution_count": null,
   "metadata": {},
   "outputs": [],
   "source": [
    "def get_activations(path, threshold, space='ijk'):\n",
    "    \"\"\"\n",
    "    Retrieve the activation coordinates from an image.\n",
    "\n",
    "    Args:\n",
    "        path (string or Nifti1Image): Path to or object of a\n",
    "            nibabel.Nifti1Image from which to extract coordinates.\n",
    "        threshold (float): Peaks under this threshold will not be detected.\n",
    "        space (string): Space of coordinates. Available: 'ijk' and 'pos'.\n",
    "\n",
    "    Returns:\n",
    "        (tuple): Size 3 tuple of np.array storing respectively the X, Y and\n",
    "            Z coordinates\n",
    "\n",
    "    \"\"\"\n",
    "    I, J, K = [], [], []\n",
    "    try:\n",
    "        img = nilearn.image.load_img(path)\n",
    "    except ValueError:  # File path not found\n",
    "        print(f'File {path} not found. Ignored.')\n",
    "        return None\n",
    "\n",
    "    if np.isnan(img.get_fdata()).any():\n",
    "        print(f'Img {path} contains Nan. Ignored.')\n",
    "        return None\n",
    "\n",
    "    img = nilearn.image.resample_to_img(img, template)\n",
    "\n",
    "    peaks = get_3d_peaks(img, mask=gray_mask, threshold=threshold)\n",
    "\n",
    "    if not peaks:\n",
    "        return I, J, K\n",
    "\n",
    "    for peak in peaks:\n",
    "        I.append(peak[space][0])\n",
    "        J.append(peak[space][1])\n",
    "        K.append(peak[space][2])\n",
    "\n",
    "    del peaks\n",
    "    \n",
    "    I, J, K = np.array(I), np.array(J), np.array(K)\n",
    "    if space == 'ijk':\n",
    "        I, J, K = I.astype(int), J.astype(int), K.astype(int)\n",
    "        \n",
    "    return I, J, K"
   ]
  },
  {
   "cell_type": "code",
   "execution_count": null,
   "metadata": {},
   "outputs": [],
   "source": [
    "activation_thresh = 1.96 \n",
    "activation_peaks = [get_activations(path, activation_thresh, space='ijk') \n",
    "                    for path in img_paths]"
   ]
  },
  {
   "cell_type": "markdown",
   "metadata": {},
   "source": [
    "We turn peaks' coordinates into binary Nifti images for convenience and create a list of nifti images:"
   ]
  },
  {
   "cell_type": "code",
   "execution_count": null,
   "metadata": {},
   "outputs": [],
   "source": [
    "binary_imgs = []\n",
    "for I, J, K in activation_peaks:\n",
    "    arr = np.zeros(template.shape)\n",
    "    arr[I, J, K] = 1\n",
    "    img = nib.Nifti1Image(arr, affine)\n",
    "    binary_imgs.append(img)"
   ]
  },
  {
   "cell_type": "markdown",
   "metadata": {},
   "source": [
    "Now that the data is properly loaded, let's talk about meta-analysis techniques."
   ]
  },
  {
   "cell_type": "markdown",
   "metadata": {},
   "source": [
    "## Coordinate-based meta-analysis (CBMA)"
   ]
  },
  {
   "cell_type": "markdown",
   "metadata": {},
   "source": [
    "The first type of neuroimaging meta-analysis technique is coordinate-based meta-analysis. These techniques only use a list of activation coordinates (which can be seen as binary maps) as input.  \n",
    "This part has been written using the following references: [1] [2] [5]."
   ]
  },
  {
   "cell_type": "markdown",
   "metadata": {},
   "source": [
    "**Context**:  \n",
    "Coordinate-based meta-analysis techniques are used in the following context:\n",
    "\n",
    "One has $N$ experiments that deal with the same or related task/topic. For each of these experiments, one has a list of coordinates of activation peaks in the brain. One wants to combine these results to build a common activation map in the hope of having a stronger prior on the activation areas of a given task than each experiment can give individually."
   ]
  },
  {
   "cell_type": "markdown",
   "metadata": {},
   "source": [
    "### ALE"
   ]
  },
  {
   "cell_type": "markdown",
   "metadata": {},
   "source": [
    "The key idea of the Activation Likelihood Estimation (ALE) algorithm is to consider the activation foci not in a discrete way, but rather as a center of probability distribution.\n",
    "\n",
    "#### Notations:\n",
    "- $N$: Number of experiments/studies.\n",
    "- $S_n$: Number of subjects in the experiment $n$.\n",
    "- $F_n$: Number of foci in the experiment $n$.\n"
   ]
  },
  {
   "cell_type": "markdown",
   "metadata": {},
   "source": [
    "#### Pipeline\n",
    "The ALE pipeline is summarized in figure [1](#ALE_fig), and can be described as follows:\n",
    "\n",
    "1. Gather the reported activation peaks in $N$ binary maps, with one map per study.\n",
    "2. For each of these maps, apply the following pipeline:  \n",
    "    a. Consider each peak individually and convolve each individual peak with a gaussian kernel, resulting in one map per peak. Note that the width of the gaussian kernel depends on the number of subjects in the considered experiment.  \n",
    "    b. Merge the obtained probability maps within the given study into a single map, called a Modeled Activation (MA) map.  \n",
    "3. Merge all the MA maps across studies into a single map; this ALE map is the result of the meta-analysis.  "
   ]
  },
  {
   "cell_type": "markdown",
   "metadata": {},
   "source": [
    "<a id='ALE_fig'></a>\n",
    "![ALE](resource/ALE.png)"
   ]
  },
  {
   "cell_type": "markdown",
   "metadata": {},
   "source": [
    "**Figure 1**: The ALE pipeline. The input are $N$ binary maps, one for each of the studies."
   ]
  },
  {
   "cell_type": "markdown",
   "metadata": {},
   "source": [
    "3 points remain unclear for now:\n",
    "- How the gaussian kernel depends on the number of subjects.\n",
    "- How to merge probability maps into MA maps (labeled by 1 in figure 1).\n",
    "- How to merge MA maps into an ALE map (labeled by 2 in figure 1).\n",
    "\n",
    "Let's clarify these points."
   ]
  },
  {
   "cell_type": "markdown",
   "metadata": {},
   "source": [
    "#### ALE Kernel"
   ]
  },
  {
   "cell_type": "markdown",
   "metadata": {},
   "source": [
    "The idea of having a kernel depend on the number of subjects of an experiment is justified by the fact that an experiment with a low number of subjects has more uncertainty than an experiment with a high number of subjects. Therefore, the lower the number of subjects in an experiment, the greater is the FWHM of the gaussian kernel."
   ]
  },
  {
   "cell_type": "markdown",
   "metadata": {},
   "source": [
    "#### Merging probability maps (within a study)"
   ]
  },
  {
   "cell_type": "markdown",
   "metadata": {},
   "source": [
    "Why do we split the binary map into as many maps as foci, leaving only one focus in each map, to finally merge them together? The convolution is linear right, why don't we simply convolve the full binary map?  \n",
    "Well, the answer is we don't apply a linear operation to merge the probability maps. Basically, the MA map is derived from the probability maps by taking the maximum of all the probability maps at each point in space."
   ]
  },
  {
   "cell_type": "markdown",
   "metadata": {},
   "source": [
    "#### Merging MA maps (across studies)"
   ]
  },
  {
   "cell_type": "markdown",
   "metadata": {},
   "source": [
    "To understand how the MA maps are merged together into the ALE map, we first have to remember the meaning of the MA maps and what we want to express in the ALE map."
   ]
  },
  {
   "cell_type": "markdown",
   "metadata": {},
   "source": [
    "Remember that the key point of ALE is to see the discrete foci as the centers of probability distributions. Hence, the MA map of an experiment can be thought as a rational modelisation of the distribution of the experiment's peaks. More specifically, the value associated with a given coordinate (i, j, k) represents the likelihood that an activation peak lies on this coordinate.\n",
    "If we denote $\\textit{MA}_n$ the MA map associated with the experiment $n$, $$\\textit{MA}_n(i, j, k) = P(\\mbox{ijk activated in the experiment $n$})$$"
   ]
  },
  {
   "cell_type": "markdown",
   "metadata": {},
   "source": [
    "A rational expectation for a meta-analysis map such as ALE is to give us an approximation of the likelihood that a given coordinate $ijk$ is truly activated in at least one experiment. Hence, if we denote $\\textit{ALE}$ the ALE map:\n",
    "$$\n",
    "\\begin{equation} \\label{eq1}\n",
    "    \\begin{split}\n",
    "    \\textit{ALE}(i,j,k) & = P(\\mbox{$ijk$ activated by at least one experiment}) \\\\\n",
    "     & = 1 - P(\\mbox{$ijk$ not activated by any experiment}) \\\\\n",
    "     & = 1 - P(\\mbox{For each experiment $n$, $ijk$ not activated in $\\textit{MA}_n$}) \\\\\n",
    "     & = 1 - \\prod_{n=1}^{N}P(\\mbox{$ijk$ not activated in $\\textit{MA}_n$}) \\\\\n",
    "     & = 1 - \\prod_{n=1}^{N}(1-P(\\mbox{$ijk$ activated in $\\textit{MA}_n$})) \\\\\n",
    "     & = 1 - \\prod_{n=1}^{N}(1 - \\textit{MA}_n(i,j,k))\n",
    "    \\end{split}\n",
    "\\end{equation}\n",
    "$$"
   ]
  },
  {
   "cell_type": "markdown",
   "metadata": {},
   "source": [
    "#### Mathematical recap"
   ]
  },
  {
   "cell_type": "markdown",
   "metadata": {},
   "source": [
    "For the sake of simplicity and to be closer to the implementation, we will consider the mathematical objects directly in the discrete 3D brain space rather than the continuous case."
   ]
  },
  {
   "cell_type": "markdown",
   "metadata": {},
   "source": [
    "We recall the previous notations:\n",
    "- $N$: Number of experiments/studies.\n",
    "- $S_n$: Number of subjects in experiment $n$.\n",
    "- $F_n$: Number of foci in experiment $n$."
   ]
  },
  {
   "cell_type": "markdown",
   "metadata": {},
   "source": [
    "And add new ones:\n",
    "- Let $(N_i, N_j, N_k)$ be the shape of the brain space. Typically $(N_i, N_j, N_k) = (91, 109, 91)$ in the MNI space.\n",
    "- For all $n \\in [1 .. N],$\n",
    "    * let $B_n \\in \\{0, 1\\}^{N_iN_jN_k}$ be the binary map associated with experiment $n$.\n",
    "    * let $D_{p, n} \\in \\{0, 1\\}^{N_iN_jN_k}$ be the binary dirac map associated with experiment $n$ and focus $p$ for all $p \\in [1 .. F_n]$. In other words, a null map with only the position of the focus $p$ set to 1 (called dirac map on figure [1](#ALE)).\n",
    "    * let $\\textit{MA}_n \\in \\mathbb{R}^{N_iN_jN_k}$ be the Modeled Activation map of experiment $n$.\n",
    "    * let $G_{S_n}$ be the gaussian kernel associated with experiment $n$.\n",
    "- Let $\\textit{ALE} \\in \\mathbb{R}^{N_iN_jN_k}$ be the desired ALE map."
   ]
  },
  {
   "cell_type": "markdown",
   "metadata": {},
   "source": [
    "Given these notations, we have the following: "
   ]
  },
  {
   "cell_type": "markdown",
   "metadata": {},
   "source": [
    "$$\n",
    "\\begin{equation}\n",
    "    B_n(i, j, k) = \\sum_{p=1}^{F_n}D_{p, n}(i, j, k)\n",
    "\\end{equation}\n",
    "$$"
   ]
  },
  {
   "cell_type": "markdown",
   "metadata": {},
   "source": [
    "$$\n",
    "\\begin{equation}\n",
    "    \\textit{MA}_n(i, j, k) = \\underset{n \\in [1..N]}{\\text{max}} \\Big[(D_{p, n}*G_{S_n})(i, j, k)\\Big]\n",
    "\\end{equation}\n",
    "$$"
   ]
  },
  {
   "cell_type": "markdown",
   "metadata": {},
   "source": [
    "$$\n",
    "\\begin{equation}\n",
    "    \\textit{ALE}(i, j, k) = 1 - \\prod_{n=1}^{N}(1 - \\textit{MA}_n(i,j,k))\n",
    "\\end{equation}\n",
    "$$"
   ]
  },
  {
   "cell_type": "markdown",
   "metadata": {},
   "source": [
    "$$\n",
    "\\begin{equation}\n",
    "    \\textit{ALE} = 1 - \\prod_{n=1}^{N}(1 - \\textit{MA}_n)\n",
    "\\end{equation}\n",
    "$$"
   ]
  },
  {
   "cell_type": "markdown",
   "metadata": {},
   "source": [
    "#### Inefficient python implementation"
   ]
  },
  {
   "cell_type": "markdown",
   "metadata": {},
   "source": [
    "Let's see what output is obtained with this method on the loaded studies."
   ]
  },
  {
   "cell_type": "markdown",
   "metadata": {},
   "source": [
    "| Math variables      | Python variables          |\n",
    "|:-------------------:|:-------------------------:|\n",
    "|$B_n$                | `binary_arr`              |\n",
    "|$D_{p, n}*G_{S_n}$   | `prob_arrs[p, :, :, :]`   |\n",
    "|$\\textit{MA}_n$      | `ma_maps[n, :, :, :]` |\n",
    "|$\\textit{ALE}$       | `ale_arr`                 |\n",
    "\n",
    "<center>Link between math and python variables.</center>"
   ]
  },
  {
   "cell_type": "code",
   "execution_count": null,
   "metadata": {},
   "outputs": [],
   "source": [
    "# sigma is the width of the gaussian kernel used in the convolution of the \n",
    "# dirac maps to build the probability maps. Dimension is in voxel.\n",
    "\n",
    "sigma = 2.\n",
    "\n",
    "def compute_ale_ma_maps():\n",
    "    \"\"\"\n",
    "    Use the following global variables\n",
    "    N_img, Ni, Nj, Nk\n",
    "    binary_imgs\n",
    "    sigma\n",
    "    \"\"\"\n",
    "    ma_maps = np.zeros((N_img, Ni, Nj, Nk))\n",
    "\n",
    "    for n in range(N_img):\n",
    "        print(f'{n+1} out of {N_img}', end='\\r')\n",
    "        binary_img = binary_imgs[n]\n",
    "        \n",
    "        # Create probability maps\n",
    "        binary_arr = binary_img.get_fdata()\n",
    "        nz_i, nz_j, nz_k = np.nonzero(binary_arr)\n",
    "        prob_arrs = np.zeros((len(nz_i), Ni, Nj, Nk))\n",
    "        \n",
    "        for p in range(len(nz_i)):\n",
    "            prob_arrs[p, nz_i[p], nz_j[p], nz_k[p]] = 1\n",
    "            # Gaussian convolve\n",
    "            prob_arrs[p, :, :, :] = scipy.ndimage.gaussian_filter(prob_arrs[p, :, :, :],\n",
    "                                                                  sigma=sigma)\n",
    "\n",
    "        # Merge probability maps\n",
    "        ma_maps[n, :, :, :] = np.max(prob_arrs, axis=0)\n",
    "        \n",
    "    return ma_maps\n",
    "\n",
    "\n",
    "def merge_ale_ma_maps(ma_maps):\n",
    "    return 1 - np.prod(1-ma_maps, axis=0)\n",
    "\n",
    "ale_ma_maps = compute_ale_ma_maps()\n",
    "ale_arr = merge_ale_ma_maps(ale_ma_maps)\n",
    "ale_img = nib.Nifti1Image(ale_arr, affine)"
   ]
  },
  {
   "cell_type": "code",
   "execution_count": null,
   "metadata": {},
   "outputs": [],
   "source": [
    "plotting.view_img(ale_img, threshold=0.01)"
   ]
  },
  {
   "cell_type": "markdown",
   "metadata": {},
   "source": [
    "### KDA"
   ]
  },
  {
   "cell_type": "markdown",
   "metadata": {},
   "source": [
    "The Kernel Density Analysis (KDA) technique differs from ALE in the way peaks are considered. Whereas a probability map was derived from the peaks in ALE, in KDA, the value of interest is the peak density (namely the number of peaks lying in a sphere of a given radius)."
   ]
  },
  {
   "cell_type": "markdown",
   "metadata": {},
   "source": [
    "#### Pipeline\n",
    "The KDA pipeline is quite similar to the ALE one, the few differences being the kernel and the way maps are merged together.\n",
    "\n",
    "The pipeline is summarized in figure [2](#KDA_fig) and can be described as follows:\n",
    "\n",
    "1. First of all, gather the reported activation peaks in $N$ binary maps (one map per study).\n",
    "2. Convolve each of these maps with a spherical uniform kernel to build the Modeled Activity (MA) maps.\n",
    "3. Derive the KDA map by summing the MA maps together."
   ]
  },
  {
   "cell_type": "markdown",
   "metadata": {},
   "source": [
    "<a id='KDA_fig'></a>\n",
    "![KDA](resource/KDA.png)"
   ]
  },
  {
   "cell_type": "markdown",
   "metadata": {},
   "source": [
    "**Figure 2**: The KDA pipeline."
   ]
  },
  {
   "cell_type": "markdown",
   "metadata": {},
   "source": [
    "The first thing we see is that the KDA process is simpler than the ALE one. Indeed, in KDA, the merge operation number 1 of ALE (the non linear maximum element-wise) is replaced by a sum operation element-wise, which is linear. So, in KDA we can mix all these steps into a single convolution of the binary map.\n",
    "\n",
    "The second merge operation (#2 in figure [2](#KDA)) is also replaced by a sum element-wise."
   ]
  },
  {
   "cell_type": "markdown",
   "metadata": {},
   "source": [
    "Let's give a bit of interpretation of the different parts in KDA."
   ]
  },
  {
   "cell_type": "markdown",
   "metadata": {},
   "source": [
    "#### KDA Kernel"
   ]
  },
  {
   "cell_type": "markdown",
   "metadata": {},
   "source": [
    "As previously stated, the KDA kernel is a sphere with a chosen radius $r$ of ones and zero else-where. Therefore, the result of a convolution of a dirac map (i.e. a zero-valued map with a single 1) with this kernel is simply a sphere of ones of same radius.  \n",
    "The derived map expresses a density. For each peak, the value stored in this map gives the number of peaks lying at most at a distance of $r$ from the chosen peak. In the particular case of a dirac map, the derived density is 0 when we look further than $r$ of the unique peak and 1 when we look closer than a $r$ distance from the unique peak."
   ]
  },
  {
   "cell_type": "markdown",
   "metadata": {},
   "source": [
    "#### MA maps"
   ]
  },
  {
   "cell_type": "markdown",
   "metadata": {},
   "source": [
    "Following from the previous point, the result of a convolution of a binary map (i.e. a sum of dirac maps) with the KDA Kernel of radius $r$, expresses simply the density of the binary map with a radius $r$."
   ]
  },
  {
   "cell_type": "markdown",
   "metadata": {},
   "source": [
    "#### KDA map"
   ]
  },
  {
   "cell_type": "markdown",
   "metadata": {},
   "source": [
    "Here again, since the merge operation #2 is just a sum, the KDA map expresses a density with a radius $r$ accross studies. That is to say the number of peaks lying at most at a distance of $r$."
   ]
  },
  {
   "cell_type": "markdown",
   "metadata": {},
   "source": [
    "#### Mathematical recap"
   ]
  },
  {
   "cell_type": "markdown",
   "metadata": {},
   "source": [
    "- Let $(N_i, N_j, N_k)$ be the shape of the brain space. Typically $(N_i, N_j, N_k) = (91, 109, 91)$ in the MNI space.\n",
    "- For all $n \\in [1 .. N],$\n",
    "    * let $B_n \\in \\{0, 1\\}^{N_iN_jN_k}$ be the binary map associated with experiment $n$.\n",
    "    * let $\\textit{MA}_n \\in \\mathbb{R}^{N_iN_jN_k}$ be the Modeled Activation map of experiment $n$.\n",
    "    * let $K_r$ be the uniform kernel of size $r$ associated with experiment $n$.\n",
    "- Let $\\textit{KDA} \\in \\mathbb{R}^{N_iN_jN_k}$ be the desired KDA map."
   ]
  },
  {
   "cell_type": "markdown",
   "metadata": {},
   "source": [
    "$$\n",
    "\\begin{equation}\n",
    "    \\textit{MA}_n = B_n*K_r\n",
    "\\end{equation}\n",
    "$$"
   ]
  },
  {
   "cell_type": "markdown",
   "metadata": {},
   "source": [
    "$$\n",
    "\\begin{equation}\n",
    "    \\textit{KDA}(i, j, k) = \\sum_{n=1}^N\\textit{MA}_n(i, j, k)\n",
    "\\end{equation}\n",
    "$$"
   ]
  },
  {
   "cell_type": "markdown",
   "metadata": {},
   "source": [
    "#### Inefficient python implementation"
   ]
  },
  {
   "cell_type": "markdown",
   "metadata": {},
   "source": [
    "Let's see what output is obtained with this method on the loaded studies."
   ]
  },
  {
   "cell_type": "markdown",
   "metadata": {},
   "source": [
    "| Math variables      | Python variables                                         |\n",
    "|:-------------------:|:--------------------------------------------------------:|\n",
    "|$B_n$                | `binary_arr`                                             |\n",
    "|$\\textit{MA}_n$      | `prob_arrs[:, :, :]` <br> and `ma_maps[n, :, :, :]`      |\n",
    "|$\\textit{KDA}$       | `kda_arr`                                                |\n",
    "\n",
    "<center>Link between math and python variables.</center>"
   ]
  },
  {
   "cell_type": "code",
   "execution_count": null,
   "metadata": {},
   "outputs": [],
   "source": [
    "r = 15. # mm\n",
    "\n",
    "def uniform_kernel(r, affine):\n",
    "    A, B, C = r, r, r\n",
    "    \n",
    "    a = int(A/abs(affine[0, 0]))\n",
    "    b = int(B/abs(affine[1, 1]))\n",
    "    c = int(C/abs(affine[2, 2]))\n",
    "    \n",
    "    kernel = np.zeros((2*a+1, 2*b+1, 2*c+1))\n",
    "    \n",
    "    i0, j0, k0 = a, b, c\n",
    "    \n",
    "    for i in range(2*a+1):\n",
    "        for j in range(2*b+1):\n",
    "            for k in range(2*c+1):\n",
    "                if ((i-i0)/a)**2 + ((j-j0)/b)**2 + ((k-k0)/c)**2 <= 1:\n",
    "                    kernel[i, j, k] = 1\n",
    "                \n",
    "    return kernel\n",
    "\n",
    "\n",
    "def compute_kda_ma_maps():\n",
    "    ma_maps = np.zeros((N_img, Ni, Nj, Nk))\n",
    "\n",
    "    for n in range(N_img):\n",
    "        print(f'{n+1} out of {N_img}', end='\\r')\n",
    "        binary_img = binary_imgs[n]\n",
    "        \n",
    "        # Create probability maps\n",
    "        binary_arr = binary_img.get_fdata()\n",
    "        \n",
    "        prob_arrs = scipy.ndimage.filters.convolve(binary_arr, uniform_kernel(r, affine), mode='constant')\n",
    "\n",
    "        # Merge probability maps\n",
    "        ma_maps[n, :, :, :] = prob_arrs\n",
    "        \n",
    "    return ma_maps\n",
    "\n",
    "\n",
    "def merge_kda_ma_maps(ma_maps):\n",
    "    return np.sum(ma_maps, axis=0)\n",
    "\n",
    "\n",
    "kda_ma_maps = compute_kda_ma_maps()\n",
    "kda_arr = merge_kda_ma_maps(kda_ma_maps)\n",
    "kda_img = nib.Nifti1Image(kda_arr, affine)"
   ]
  },
  {
   "cell_type": "code",
   "execution_count": null,
   "metadata": {},
   "outputs": [],
   "source": [
    "plotting.view_img(kda_img, threshold=25)"
   ]
  },
  {
   "cell_type": "markdown",
   "metadata": {},
   "source": [
    "### ALE and KDA limitations [1]"
   ]
  },
  {
   "cell_type": "markdown",
   "metadata": {},
   "source": [
    "Both ALE and KDA treat each focus independently. As a consequence, if one study has a lot more peaks than the others, this study will have an immense impact on the results, even if the increased number of foci is not relevant and is not indicative of the quality of a study (e.g due to different thresholding). To prevent studies with a lot of peaks from getting the upper hand, MKDA technique does not treat all foci equally; instead, it considers study as the unit of analysis. \n",
    "A more fundamental issue is that studies with no activations cannot be included in the meta analyses.  "
   ]
  },
  {
   "cell_type": "markdown",
   "metadata": {},
   "source": [
    "### MKDA"
   ]
  },
  {
   "cell_type": "markdown",
   "metadata": {},
   "source": [
    "The Multilevel Kernel Density Analysis (MKDA) technique, as the name suggests, is closely related to the KDA one. Actually, it is an improved version of KDA in which the unit of analysis is no longer peak location but study. This allows it to avoid the drawbacks mentioned above."
   ]
  },
  {
   "cell_type": "markdown",
   "metadata": {},
   "source": [
    "#### Pipeline"
   ]
  },
  {
   "cell_type": "markdown",
   "metadata": {},
   "source": [
    "The MKDA pipeline is  basically the KDA one with extra steps.\n",
    "\n",
    "The pipeline is summarized in figure [3](#MKDA_fig) and can be described as follows:\n",
    "\n",
    "1. First of all, gather the reported activation peaks in $N$ binary maps.\n",
    "2. Convolve each of these maps with a spherical uniform kernel.\n",
    "3. Binarize these maps by setting all strictly positive values to 1 to build the Comparison Indicator Maps (CIM).\n",
    "3. Derive the MKDA map by performing a weighted average on the CIM (weights are described later)."
   ]
  },
  {
   "cell_type": "markdown",
   "metadata": {},
   "source": [
    "<a id='MKDA_fig'></a>\n",
    "![MKDA](resource/MKDA.png)"
   ]
  },
  {
   "cell_type": "markdown",
   "metadata": {},
   "source": [
    "**Figure 3**: The MKDA pipeline."
   ]
  },
  {
   "cell_type": "markdown",
   "metadata": {},
   "source": [
    "Let's describe these extra steps."
   ]
  },
  {
   "cell_type": "markdown",
   "metadata": {},
   "source": [
    "#### MKDA Kernel"
   ]
  },
  {
   "cell_type": "markdown",
   "metadata": {},
   "source": [
    "The MKDA kernel is the same as the KDA kernel, namely, a sphere of ones with a chosen radius $r$ and zero elsewhere."
   ]
  },
  {
   "cell_type": "markdown",
   "metadata": {},
   "source": [
    "#### Binarization"
   ]
  },
  {
   "cell_type": "markdown",
   "metadata": {},
   "source": [
    "In comparison to KDA, a new step is added between the convolution and the merge operations: binarization. The purpose of this operation is to prevent studies that have a lot of peaks from getting the upper hand over studies having only a few peaks, which is, as said before, a problem with ALE and KDA. "
   ]
  },
  {
   "cell_type": "markdown",
   "metadata": {},
   "source": [
    "#### Weighted average"
   ]
  },
  {
   "cell_type": "markdown",
   "metadata": {},
   "source": [
    "The purpose of the average by itself is intuitive, but what about the weighting?  \n",
    "\n",
    "1. We want the larger studies to carry more weight in the meta-analysis because it is assumed that the larger the sample, the more precise the results.  \n",
    "2. Moreover, two main kinds of studies exist in the literature: those that treat subjects as fixed effects (FFX, mostly older studies), and those subjecs as random effects (RFX, which uses the appropriate degrees of freedom). Thus, the idea is to downweight the first kind of studies because their results may be less generalizable beyond their sample. There is no agreed-upon value for this downweighting, but some papers propose 0.75 ([1])."
   ]
  },
  {
   "cell_type": "markdown",
   "metadata": {},
   "source": [
    "In order to meet these needs, a reasonable weight for an experiment $n$ is the following:\n",
    "\n",
    "$$\n",
    "    \\alpha_n = \\delta_n\\sqrt{S_n}\n",
    "$$\n",
    "\n",
    "With\n",
    "- $S_n$ is the number of subjects in the experiment $n$.\n",
    "- $\\delta_n$ the RFX/FFX weight given to experiment $n$ :\n",
    "\n",
    "$$\\delta_n =  \\left\\{ \n",
    "    \\begin{array}[cc]\\\\\n",
    "        1 & \\mbox{if RFX}\\\\\n",
    "        .75 & \\mbox{if FFX}\n",
    "    \\end{array}\n",
    "    \\right.\n",
    "$$"
   ]
  },
  {
   "cell_type": "markdown",
   "metadata": {},
   "source": [
    "#### Mathematical recap"
   ]
  },
  {
   "cell_type": "markdown",
   "metadata": {},
   "source": [
    "- Let $N \\in \\mathbb{N}^*$ be the number of experiments/studies.\n",
    "- Let $S_n \\in \\mathbb{N}$ be the number of subjects in the experiment $n$.\n",
    "- Let $(N_i, N_j, N_k)$ be be the shape of the brain space. Typically $(N_i, N_j, N_k) = (91, 109, 91)$ in MNI space.\n",
    "- For all $n \\in [1 .. N],$\n",
    "    * let $B_n \\in \\{0, 1\\}^{N_iN_jN_k}$ be the binary map associated with experiment $n$.\n",
    "    * let $\\textit{MA}_n \\in \\mathbb{R}^{N_iN_jN_k}$ be the Modeled Activation map of experiment $n$.\n",
    "    * let $K_r$ be the uniform kernel of size $r$ associated with experiment $n$.\n",
    "- Let $\\textit{MKDA} \\in \\mathbb{R}^{N_iN_jN_k}$ be the desired MKDA map."
   ]
  },
  {
   "cell_type": "markdown",
   "metadata": {},
   "source": [
    "$$\n",
    "\\begin{equation}\n",
    "    \\textit{MA}_n(i, j, k) = \\min((B_n*K_r)(i, j, k),~1)\n",
    "\\end{equation}\n",
    "$$"
   ]
  },
  {
   "cell_type": "markdown",
   "metadata": {},
   "source": [
    "$$\n",
    "\\begin{equation}\n",
    "    \\textit{MKDA}(i, j, k) = \\frac{1}{\\sum_{n=1}^N\\alpha_n}\\sum_{n=1}^N\\alpha_n\\textit{MA}_n(i, j, k)\n",
    "\\end{equation}\n",
    "$$"
   ]
  },
  {
   "cell_type": "markdown",
   "metadata": {},
   "source": [
    "With:\n",
    "$$\n",
    "    \\alpha_n = \\delta_n\\sqrt{S_n}\n",
    "$$"
   ]
  },
  {
   "cell_type": "markdown",
   "metadata": {},
   "source": [
    "$$\\delta_n =  \\left\\{ \n",
    "    \\begin{array}[cc]\\\\\n",
    "        1 & \\mbox{if RFX}\\\\\n",
    "        .75 & \\mbox{if FFX}\n",
    "    \\end{array}\n",
    "    \\right.\n",
    "$$"
   ]
  },
  {
   "cell_type": "markdown",
   "metadata": {},
   "source": [
    "#### Inefficient python implementation"
   ]
  },
  {
   "cell_type": "markdown",
   "metadata": {},
   "source": [
    "Let's see what output is obtained with this method on the loaded studies."
   ]
  },
  {
   "cell_type": "markdown",
   "metadata": {},
   "source": [
    "| Math variables      | Python variables                                         |\n",
    "|:-------------------:|:--------------------------------------------------------:|\n",
    "|$B_n$                | `binary_arr`                                             |\n",
    "|$\\textit{MA}_n$      | `prob_arrs[:, :, :]` <br> and `ma_maps[n, :, :, :]`      |\n",
    "|$\\textit{MKDA}$      |  `mkda_arr`                                              |\n",
    "\n",
    "<center>Link between math and python variables.</center>"
   ]
  },
  {
   "cell_type": "code",
   "execution_count": null,
   "metadata": {},
   "outputs": [],
   "source": [
    "r = 10. # radius of the sphere, mm\n",
    "\n",
    "def compute_mkda_ma_maps():\n",
    "    ma_maps = np.zeros((N_img, Ni, Nj, Nk))\n",
    "\n",
    "    for n in range(N_img):\n",
    "        print(f'{n+1} out of {N_img}', end='\\r')\n",
    "        binary_img = binary_imgs[n]\n",
    "        \n",
    "        # Create probability maps\n",
    "        binary_arr = binary_img.get_fdata()\n",
    "        \n",
    "        prob_arrs = scipy.ndimage.filters.convolve(binary_arr, uniform_kernel(r, affine), mode='constant')\n",
    "        \n",
    "        prob_arrs = prob_arrs > 0 \n",
    "\n",
    "        # Merge probability maps\n",
    "        ma_maps[n, :, :, :] = prob_arrs\n",
    "        \n",
    "    return ma_maps\n",
    "\n",
    "\n",
    "def merge_mkda_ma_maps(ma_maps):\n",
    "    return np.sum(ma_maps, axis=0)\n",
    "\n",
    "\n",
    "mkda_ma_maps = compute_mkda_ma_maps()\n",
    "mkda_arr = merge_mkda_ma_maps(mkda_ma_maps)\n",
    "mkda_img = nib.Nifti1Image(mkda_arr, affine)"
   ]
  },
  {
   "cell_type": "code",
   "execution_count": null,
   "metadata": {},
   "outputs": [],
   "source": [
    "plotting.view_img(mkda_img, threshold=5)"
   ]
  },
  {
   "cell_type": "markdown",
   "metadata": {},
   "source": [
    "## Coordinate-based meta-analysis limitations"
   ]
  },
  {
   "cell_type": "markdown",
   "metadata": {},
   "source": [
    "The main limitation of coordinate-based meta-analysis is the loss of information between the full image of the brain (which is acquired during the experiment) and the reported coordinates in the published paper. Another limitation of this representation is the high sensitivity of coordinates to methods used in the study, from thresholding to reporting.  \n",
    "That's why, whenever the full images of the brain is available, one should use image-based meta-analysis to obtain results based on more information. "
   ]
  },
  {
   "cell_type": "markdown",
   "metadata": {},
   "source": [
    "## Image-based meta-analysis (IBMA)"
   ]
  },
  {
   "cell_type": "markdown",
   "metadata": {},
   "source": [
    "In image-based meta-analysis, as the name suggests, we have at our disposal at least the full group-level activation image from each study, and often the full activation image for each subject within each study. The idea of image-based meta-analysis is to mix these maps together to create a meta-analysis map.\n",
    "\n",
    "We will go through three methods: Fisher, Stouffers and Multilevel GLM. These methods differ in the way they combine images. Fisher and Stouffers are general methods that are used to combine a number of independant tests, whereas Multilevel GLM is more neuroimaging-specific in the way the operations are conceived.\n",
    "\n",
    "This part has been written using the following references: [3] [4] [5]."
   ]
  },
  {
   "cell_type": "markdown",
   "metadata": {},
   "source": [
    "**Context**  \n",
    "What precisely are the inputs of image-based meta-analysis?  \n",
    "The type of map (contrast, z, t or standard error maps) depends on the method used, and will be detailed in each section.\n",
    "\n",
    "However, whatever the type of map, one should be aware about the following caveat.  \n",
    "Since the input data is now the full brain image instead of coordinates (that are assumed to be in a common space), one should check that all images are in a common space (e.g. the [MNI152](http://www.bic.mni.mcgill.ca/ServicesAtlases/ICBM152NLin2009))."
   ]
  },
  {
   "cell_type": "markdown",
   "metadata": {},
   "source": [
    "### Fisher"
   ]
  },
  {
   "cell_type": "markdown",
   "metadata": {},
   "source": [
    "Fisher's combination method, as Stouffers' method, aims to combine a number of independant tests into one."
   ]
  },
  {
   "cell_type": "markdown",
   "metadata": {},
   "source": [
    "**Input data**  \n",
    "Only the group-level z maps from each of the studies are required.\n",
    "\n",
    "**Ouput data**  \n",
    "The ouput of the method is a single p-value map. A z map can be computed from this map, seen as the meta-analysis result."
   ]
  },
  {
   "cell_type": "markdown",
   "metadata": {},
   "source": [
    "#### Mathematic foreword\n",
    "Before applying the Fisher's method to neuroimaging, let's consider the general case.\n",
    "\n",
    "Let $T_1, ... T_N$ be $N$ independant tests on $H_0$.  \n",
    "Let $p_1, ..., p_N$ be their corresponding p-values."
   ]
  },
  {
   "cell_type": "markdown",
   "metadata": {},
   "source": [
    "The Fisher's method builds the test statistics $T_f$ as follows:\n",
    "$$\n",
    "    T_f = -2\\sum_{k=1}^N\\ln(p_k)\n",
    "$$"
   ]
  },
  {
   "cell_type": "markdown",
   "metadata": {},
   "source": [
    "An important result is that, under the null hypothesis $H_0$, $T_f$ follows a $\\chi^2$ distribution with $2N$ degrees of freedom. Thus, the only remaining thing to do is to compare the obtained value of $T_f$ to the null $\\chi^2_{2N}$ distribution. To control for a risk of error $\\alpha$, one would chose a threshold $\\chi^2_{2N\\alpha}$ value such that the propability to find a $\\chi^2_{2N}$ greater or equal to $\\chi^2_{2N\\alpha}$ is $\\alpha$.\n",
    "Large values of $T_f$, less likely according to the $\\chi^2_{2N}$ distribution, lead to the rejection of $H_0$.\n",
    "\n",
    "The p-value $p_f$ of the combined probability test can then be computed by looking to the tail of the $\\chi^2_{2N}$ distribution.\n",
    "\n",
    "$$\n",
    "    p_f = \\mathbb{P}(X \\geq T_f)\n",
    "$$\n",
    "With\n",
    "$$\n",
    "    X \\sim \\chi^2_{2N}\n",
    "$$"
   ]
  },
  {
   "cell_type": "markdown",
   "metadata": {},
   "source": [
    "<img src=\"resource/chi2.png\" width=\"400\"> \\\n",
    "**Figure 4:** The $\\chi^2$ distribution."
   ]
  },
  {
   "cell_type": "markdown",
   "metadata": {},
   "source": [
    "#### Neuorimaging application\n",
    "\n",
    "The key idea is to understand how to transform z maps into p-value maps and vice versa.\n",
    "\n",
    "**Z map to p-value map**  \n",
    "Z maps store z-scores. For a voxel $v$, the null hypothesis is \"the voxel is not activated.\" When $H_0$ is true, the z-score of this voxel follows a standard normal distribution. Since we are interested in activation rather than deactivation, given a z-score $Z$, its associated p-value $p_Z$ is the probability to observe a value greater than the test critical value."
   ]
  },
  {
   "cell_type": "markdown",
   "metadata": {},
   "source": [
    "$$\n",
    "p_Z = \\mathbb{P}(X \\geq Z)\n",
    "$$\n",
    "With\n",
    "$$X \\sim \\mathcal{N}(0, 1)$$\n",
    "\n",
    "Which can be rewritten using the normal cumulative distribution function $\\Phi$, and gives the link between z score and its p-value:\n",
    "$$\n",
    "    p_Z = 1 - \\Phi(Z)\n",
    "$$"
   ]
  },
  {
   "cell_type": "markdown",
   "metadata": {},
   "source": [
    "<img src=\"resource/normal.jpg\" width=\"300\">\n",
    "\n",
    "<a id='Normal'></a>**Figure 5:** The normal distribution of the z map."
   ]
  },
  {
   "cell_type": "markdown",
   "metadata": {},
   "source": [
    "Considering only activation (the right side of the distribution) and not deactivation is a one-sided test. Considering both of them (answering a more general question of excessive positive or negative values) is referred to as a two-sided test."
   ]
  },
  {
   "cell_type": "markdown",
   "metadata": {},
   "source": [
    "**p-value map to Z map**  \n",
    "Using the inverse normal cumulative distribution function, it is straightforward to invert the previous process. Given a p-value $p$, the associated critical value is:"
   ]
  },
  {
   "cell_type": "markdown",
   "metadata": {},
   "source": [
    "$$\n",
    "   Z = \\Phi^{-1}(1-p_Z)\n",
    "$$"
   ]
  },
  {
   "cell_type": "markdown",
   "metadata": {},
   "source": [
    "**Application**  \n",
    "Let's consider only one brain voxel $v$. In each study $k$, the question of whether $v$ is activated, i.e., whether we reject $H_0$, is represented by the hypothesis test $T_k$. The studies are supposedly independant; so are the tests $T_k$. For each study $k$, we can derive the p-value $p_k$ from the z-score associated to voxel $v$ as described previously. We then combine all these p-values together to build a test $T_f$ using the Fisher's formula. We compare $T_f$ to the $\\chi^2_{2N}$ distribution and derive the combined p-value $p_f$. Finally, we derive the meta-analysis z-score from the combined p-value $p_f$ as described above.  \n",
    "By performing this task voxel-wise, we can derive the meta-analysis z map."
   ]
  },
  {
   "cell_type": "markdown",
   "metadata": {},
   "source": [
    "#### Inefficient python implementation"
   ]
  },
  {
   "cell_type": "markdown",
   "metadata": {},
   "source": [
    "Let's see what output is obtained with this method on the loaded studies."
   ]
  },
  {
   "cell_type": "markdown",
   "metadata": {},
   "source": [
    "| Math variables      | Python variables|\n",
    "|---------------------|-------------|\n",
    "|$T_f$                | `T_f`       |\n",
    "|$p_f$                | `p_f`       |\n",
    "|$\\Phi^{-1}(1-p_f)$   | `fisher_arr`|\n",
    "\n",
    "<center>Link between math and python variables.</center>"
   ]
  },
  {
   "cell_type": "code",
   "execution_count": null,
   "metadata": {},
   "outputs": [],
   "source": [
    "def z_to_p(z_arr):\n",
    "    return 1-scipy.stats.norm.cdf(z_arr)\n",
    "\n",
    "def p_to_z(p_arr):\n",
    "    \"\"\"\n",
    "    scipy.special.ndtri returns the argument x for which the area under the Gaussian \n",
    "    probability density function (integrated from minus infinity to x) is equal to y.\n",
    "    \"\"\"\n",
    "    return scipy.special.ndtri(1-p_arr)\n",
    "\n",
    "p_values = np.zeros((N_img, Ni, Nj, Nk))\n",
    "\n",
    "for n in range(N_img):\n",
    "    img = nilearn.image.load_img(img_paths[n])\n",
    "    arr = img.get_fdata()\n",
    "    p_values[n, :, :, :] = z_to_p(arr)\n",
    "    \n",
    "T_f = np.nan_to_num(-2*np.sum(np.log(p_values), axis=0))\n",
    "\n",
    "# chi2 survival funtion: \n",
    "p_f = scipy.stats.chi2.sf(T_f, 2 * N_img)\n",
    "\n",
    "fisher_arr = p_to_z(p_f)\n",
    "maxnan = fisher_arr[fisher_arr != np.inf].max()\n",
    "minnan = fisher_arr[fisher_arr != -np.inf].min()\n",
    "np.nan_to_num(fisher_arr, copy=False, posinf=maxnan, neginf=minnan) # Truncate inf values\n",
    "fisher_img = nib.Nifti1Image(np.array(fisher_arr), affine)"
   ]
  },
  {
   "cell_type": "code",
   "execution_count": null,
   "metadata": {},
   "outputs": [],
   "source": [
    "plotting.plot_stat_map(fisher_img)"
   ]
  },
  {
   "cell_type": "markdown",
   "metadata": {},
   "source": [
    "### Stouffers"
   ]
  },
  {
   "cell_type": "markdown",
   "metadata": {},
   "source": [
    "Stouffers' method is very close to Fisher's one. Both have z maps as inputs and outputs and both aim to mix p-value maps into one."
   ]
  },
  {
   "cell_type": "markdown",
   "metadata": {},
   "source": [
    "**Input data**  \n",
    "Only the z maps of each studies are required.\n",
    "\n",
    "**Ouput data**  \n",
    "The ouput of the method is a single p-value map. From this map can be computed a z map, seen as the meta-analysis result."
   ]
  },
  {
   "cell_type": "markdown",
   "metadata": {},
   "source": [
    "**Mathematic foreword**\n",
    "  \n",
    "Let $Z_1, ..., Z_N$ be $N$ Z-scores. The Stouffers' method aims to build a test $T_s$ as follow:"
   ]
  },
  {
   "cell_type": "markdown",
   "metadata": {},
   "source": [
    "$$\n",
    "T_s = \\sum_{k=1}^N \\frac{Z_k}{\\sqrt{N}}\n",
    "$$"
   ]
  },
  {
   "cell_type": "markdown",
   "metadata": {},
   "source": [
    "Note that since $Z_k = \\Phi^{-1}(1-p_k)$ with the previous notations, it can be seen as a p-value combination method, as Fisher's one."
   ]
  },
  {
   "cell_type": "markdown",
   "metadata": {},
   "source": [
    "Under $H_0$, since $Z_k \\sim \\mathcal{N}(0, 1)$, $T_s$ follows a standard normal distribution\n",
    "$$\n",
    "    T_s \\sim \\mathcal{N}(0, 1)\n",
    "$$"
   ]
  },
  {
   "cell_type": "markdown",
   "metadata": {},
   "source": [
    "From there, the process is similar to the one explained in the Fisher's part, replacing the $\\chi^2_{2N}$ distribution with the $\\mathcal{N}(0, 1)$ one. "
   ]
  },
  {
   "cell_type": "markdown",
   "metadata": {},
   "source": [
    "The p-value $p_s$ of the combined probability test is similarly given by\n",
    "\n",
    "$$\n",
    "    p_s = \\mathbb{P}(X \\geq T_s)\n",
    "$$\n",
    "With\n",
    "$$\n",
    "    X \\sim \\mathcal{N}(0,1)\n",
    "$$"
   ]
  },
  {
   "cell_type": "markdown",
   "metadata": {},
   "source": [
    "#### Application\n",
    "As with Fisher's method, let's consider only one brain voxel $v$. For each study $k$, we combine the Z-scores together to build a test $T_s$. The p-value $p_s$ and its associated Z-score are then derived by comparing $T_s$ to the $\\mathcal{N}(0, 1)$ distribution. By performing this task voxel-wise, we can derive the meta-analysis z map."
   ]
  },
  {
   "cell_type": "markdown",
   "metadata": {},
   "source": [
    "#### Inefficient python implementation"
   ]
  },
  {
   "cell_type": "markdown",
   "metadata": {},
   "source": [
    "Let's see what output is obtained with this method on the loaded studies."
   ]
  },
  {
   "cell_type": "markdown",
   "metadata": {},
   "source": [
    "| Math variables      | Python variables|\n",
    "|---------------------|-----------------|\n",
    "|$T_s$                | `T_s`           |\n",
    "|$p_s$                | `p_s`           |\n",
    "|$\\Phi^{-1}(1-p_s)$   | `stouffers_arr` |\n",
    "\n",
    "<center>Link between math and python variables.</center>"
   ]
  },
  {
   "cell_type": "code",
   "execution_count": null,
   "metadata": {},
   "outputs": [],
   "source": [
    "T_s = np.zeros((Ni, Nj, Nk))\n",
    "\n",
    "for n in range(N_img):\n",
    "    img = nilearn.image.load_img(img_paths[n])\n",
    "    T_s += img.get_fdata()\n",
    "    \n",
    "T_s /= np.sqrt(N_img)\n",
    "p_s = scipy.stats.norm.sf(T_s, loc=0, scale=1)\n",
    "\n",
    "stouffers_arr = p_to_z(p_s)\n",
    "maxnan = stouffers_arr[stouffers_arr != np.inf].max()\n",
    "minnan = stouffers_arr[stouffers_arr != -np.inf].min()\n",
    "np.nan_to_num(stouffers_arr, copy=False, posinf=maxnan, neginf=minnan) # Truncate inf values\n",
    "stouffers_img = nib.Nifti1Image(stouffers_arr, affine)"
   ]
  },
  {
   "cell_type": "code",
   "execution_count": null,
   "metadata": {},
   "outputs": [],
   "source": [
    "plotting.view_img(stouffers_img)"
   ]
  },
  {
   "cell_type": "markdown",
   "metadata": {},
   "source": [
    "### Fisher's or Stouffers'?"
   ]
  },
  {
   "cell_type": "markdown",
   "metadata": {},
   "source": [
    "Here are some comparisons found in the litterature:\n",
    "\n",
    "Stouffer’s method is commonly preferred in the presence of weights, as the weighted test statistic\n",
    "$\\sum^n_{i=1} w_i\\phi^{−1}(p_i)$ retains a closed-form distribution, $\\mathcal{N}(0,\\sum_{i=1}^n w_i)$, under the null hypothesis [6]. This straightforward way to introduce weights can make Stouffer's method more powerful than Fisher’s method when the p-values are from studies of different size [7] [8]."
   ]
  },
  {
   "cell_type": "markdown",
   "metadata": {},
   "source": [
    "### Multilevel GLM"
   ]
  },
  {
   "cell_type": "markdown",
   "metadata": {},
   "source": [
    "The last technique to be approached is also the most complex: the Multilevel General Linear Level. Below is the general idea of a simplified version of the method, where a strong hypothesis has been made.  \n",
    "\n",
    "The key idea of this technique is to add a level of GLM on top of the other usual levels, that is, adding an inter-study level GLM on top of subject level and within-study level GLM.\n",
    "\n",
    "This part strongly references the paper of Beckmann et al [4]."
   ]
  },
  {
   "cell_type": "markdown",
   "metadata": {},
   "source": [
    "<a id=\"GLM_Model\"></a>\n",
    "#### GLM Model\n",
    "GLM intempts to explain a variable $Y$ as a combination of $\\beta$-weighted predictors $X$ and noise $e$. The $\\beta$ weights are the unknown values that are estimated. The simplest modelisation of GLM is the following:\n",
    "\n",
    "$$\n",
    "    Y = X\\beta + e\n",
    "$$\n",
    "\n",
    "$$e \\sim \\mathcal{N}(0, \\sigma^2 I)$$\n",
    "\n",
    "Where $Y$, $X$, $e$ are vectors and $X$ is a matrix.  \n",
    "- $X$ is called the design matrix and is fixed by the experimenter (assumed full rank).  \n",
    "- $Y$ are observations.\n",
    "- $\\beta$ is unknown and will be estimated in the GLM process.\n",
    "- $e$ is unknown, but assumptions are made on its covariance structure (e.g independant and identically distributed...)"
   ]
  },
  {
   "cell_type": "markdown",
   "metadata": {},
   "source": [
    "**1. Estimation of $\\beta$**  \n",
    "Under the more general assumption $e \\sim \\mathcal{N}(0, V)$, $\\beta$ and its covariance can be estimated using the Generalized Least Square (GLS) technique through the following formulae:\n",
    "\n",
    "$$\n",
    "    \\hat{\\beta} = (X^TV^{-1}X)^{-1}X^TV^{-1}Y\n",
    "$$\n",
    "$$\n",
    "    \\mbox{Cov}(\\hat{\\beta}) = (X^TV^{-1}X)^{-1}\n",
    "$$\n",
    "\n",
    "Under the particular assumption $V = \\sigma^2I$, i.e $e \\sim \\mathcal{N}(0, \\sigma^2I)$, the above formulae become:\n",
    "$$\n",
    "    \\hat{\\beta} = (X^TX)^{-1}X^TY\n",
    "$$\n",
    "$$\n",
    "    \\mbox{Cov}(\\hat{\\beta}) = \\sigma^2(X^TX)^{-1}\n",
    "$$\n",
    "\n",
    "This case of GLS is known as Ordinary Least Squares (OLS)"
   ]
  },
  {
   "cell_type": "markdown",
   "metadata": {},
   "source": [
    "**2. Estimation of $V$**  \n",
    "Remember that $V$ is unknown in the above process, hence one needs to estimate $V$ before applying these formulae.\n",
    "\n",
    "Under the simplest assumption $e \\sim \\mathcal{N}(0, \\sigma^2 I)$, the covariance structure can be estimated as follow:\n",
    "\n",
    "$$\n",
    "    \\hat{\\sigma} = \\frac{1}{N}(y-X\\hat{\\beta})^T(y-X\\hat{\\beta})\n",
    "$$\n",
    "\n",
    "With $N$ the length of $y$.\n",
    "\n",
    "Note that this is possible since $\\hat{\\beta}$ does not depend on $V$ under the assumption $V = \\sigma^2I$. Once $\\sigma$ estimated, can be estimated the covariance of the estimates: $\\mbox{Cov}(\\hat{\\beta}) = \\hat{\\sigma}^2(X^TX)^{-1}$.\n",
    "\n",
    "Under the more general assumption $e \\sim \\mathcal{N}(0, V)$, $\\beta$ does depend on $V$ and therefore, more complex method must be used. Beckmann et al. [4] present some of them."
   ]
  },
  {
   "cell_type": "markdown",
   "metadata": {},
   "source": [
    "#### 2-level GLM model\n",
    "\n",
    "The principle of Multilevel GLM is to stack the previous process for each level (e.g subject, within study, inter-study...).  \n",
    "As a simplified version, we consider only the upper two levels (within study and inter study levels, which are now called 1st and 2nd level) and we take the subject level for ground truth instead of estimation. See figure [6](#MGLM_simplified_fig) for diagram."
   ]
  },
  {
   "cell_type": "markdown",
   "metadata": {},
   "source": [
    "<a id='MGLM_simplified_fig'></a>\n",
    "![MGLM](resource/Hierarchical_model_simplified.png)"
   ]
  },
  {
   "cell_type": "markdown",
   "metadata": {},
   "source": [
    "**Figure 6:** Simplified 2-level multilevel GLM diagramm where subjects' maps are taken as ground truth (i.e not as estimates from time series)."
   ]
  },
  {
   "cell_type": "markdown",
   "metadata": {},
   "source": [
    "Without loss of generality, we take ony one voxel $v$ into consideration. Let's formalize the simplified Multilevel GLM on each level."
   ]
  },
  {
   "cell_type": "markdown",
   "metadata": {},
   "source": [
    "**1st level: Within study**  \n",
    "\n",
    "For a study $k$,\n",
    "* Let $n_k$ be the number of subjects who participated in study $k$.\n",
    "* Let $Y_k$ be the vector of the values taken by the voxel $v$ for each subjects of experiment $k$. Hence $Y_k$ has same length as the number of subjects in study $k$.\n",
    "* Let $X_k$ be the design matrix of experiment $k$.\n",
    "* Let denote $\\epsilon_k$ the residuals of the fit."
   ]
  },
  {
   "cell_type": "markdown",
   "metadata": {},
   "source": [
    "According to the first part [GLM Model](#GLM_Model), the GLM for experiment $k$ consists of estimating $\\beta_k^{(1)}$ in the following equation, with one equation for each voxel:\n",
    "\n",
    "$$\n",
    "    Y_k = X_k\\beta_k^{(1)} + \\epsilon_k\n",
    "$$\n",
    "\n",
    "In our simple model, we assume that the noise is independant between subjects and has the following covariance structure:\n",
    "\n",
    "$$\n",
    "    \\epsilon_k \\sim \\mathcal{N}(0, \\sigma_k^2I_{n_k})\n",
    "$$\n",
    "\n",
    "As showed above, the ordinary least square technique can be used to derive the estimates of the first level $\\hat{\\beta}^{(1)}_k$. We have for each study $k$:\n",
    "\n",
    "$$\n",
    "    \\hat{\\beta}^{(1)}_k = (X_k^TX_k)^{-1}X_k^TY\n",
    "$$\n",
    "$$\n",
    "    \\mbox{Cov}(\\hat{\\beta}^{(1)}_k) = \\sigma_k^2(X_k^TX_k)^{-1}\n",
    "$$"
   ]
  },
  {
   "cell_type": "markdown",
   "metadata": {},
   "source": [
    "Let's stack these equations together.  \n",
    "We define\n",
    "$\n",
    "Y = \\begin{bmatrix}\n",
    "Y_1 \\\\\n",
    "... \\\\\n",
    "Y_N\n",
    "\\end{bmatrix}$\n",
    "$\n",
    "X = \\begin{bmatrix}\n",
    "X_1 & 0 & 0\\\\\n",
    "0 & ... & 0\\\\\n",
    "0 & 0 & X_N\n",
    "\\end{bmatrix}$\n",
    "$\n",
    "\\beta^{(1)} = \\begin{bmatrix}\n",
    "\\beta_1^{(1)} \\\\\n",
    "... \\\\\n",
    "\\beta_N^{(1)}\n",
    "\\end{bmatrix}$\n",
    "$\n",
    "\\epsilon = \\begin{bmatrix}\n",
    "\\epsilon_1 \\\\\n",
    "... \\\\\n",
    "\\epsilon_N\n",
    "\\end{bmatrix}$\n",
    "$\n",
    "V = \\begin{bmatrix}\n",
    "\\sigma_1I_{n_1} & 0 & 0\\\\\n",
    "0 & ... & 0\\\\\n",
    "0 & 0 & \\sigma_NI_{n_N}\n",
    "\\end{bmatrix}$\n",
    "\n",
    "Hence the previous equation becomes:\n",
    "$$\n",
    "    \\hat{\\beta}^{(1)} = (X^TX)^{-1}X^TY\n",
    "$$\n",
    "$$\n",
    "    \\mbox{Cov}(\\hat{\\beta}^{(1)}) = (X^TV^{-1}X)^{-1}\n",
    "$$\n",
    "\n",
    "Which are the estimates of the first level and their covariance (Respectively the studies' red/blue maps and their yellow variance maps on figure [6](#MGLM_fig))."
   ]
  },
  {
   "cell_type": "markdown",
   "metadata": {},
   "source": [
    "**2nd level: Inter-study**"
   ]
  },
  {
   "cell_type": "markdown",
   "metadata": {},
   "source": [
    "As said before, multilevel GLM is the stacking of single GLMs. Hence for the 2nd level we just stack another level of GLM on the previous results. More formally,\n",
    "\n",
    "$$\n",
    "    \\beta^{(1)} = X_G\\beta^{(2)} + \\eta\n",
    "$$\n",
    "Where\n",
    "* $X_G$ is the group level design matrix.\n",
    "* $\\eta$ is the vector of residuals of the fit.\n",
    "\n",
    "With, here again, the assumption is made that $\\eta$ has a diagonal covariance structure $V_G = \\mbox{Cov}(\\eta) = \\sigma^2I$.\n",
    "\n"
   ]
  },
  {
   "cell_type": "markdown",
   "metadata": {},
   "source": [
    "The problem here is that $\\beta^{(1)}$ is unknown, we only know its estimation $\\hat{\\beta}^{(1)}$. Hence, we fit a GLM on the estimates $\\hat{\\beta}^{(1)}$ instead. The previous equation hence becomes\n",
    "\n",
    "$$\n",
    "    \\hat{\\beta}^{(1)} = X_G\\beta^{(2)} + \\eta'\n",
    "$$\n",
    "\n",
    "Keepping the same notation for the quantity we want to estimate $\\beta^{(2)}$. We denote $V_{G2} := \\mbox{Cov}(\\eta')$. Note that we cannot make any assumption about the noise $\\eta'$ since we are now fitting GLM on estimates. However, we can derive a formula between the covariance of $\\eta'$ and other covariances of the problem (see [4] for details).\n",
    "\n",
    "$$\n",
    "    \\mbox{Cov}(\\eta') = \\mbox{Cov}(\\eta) + \\mbox{Cov}(\\hat{\\beta}^{(1)})\n",
    "$$\n",
    "Hence\n",
    "$$\n",
    "    V_{G2} := \\mbox{Cov}(\\eta') = \\sigma^2I_N + (X^TV^{-1}X)^{-1}\n",
    "$$"
   ]
  },
  {
   "cell_type": "markdown",
   "metadata": {},
   "source": [
    "As showed in the [GLM Model](#GLM_Model) part, applying the general least squares technique leads to\n",
    "\n",
    "$$\n",
    "    \\hat{\\beta}^{(2)} = (X_G^TV_{G2}^{-1}X_G)^{-1}X_G^TV_{G2}^{-1}Y\n",
    "$$\n",
    "$$\n",
    "    \\mbox{Cov}(\\hat{\\beta}^{(2)}) = (X_G^TV_{G2}^{-1}X_G)^{-1}\n",
    "$$"
   ]
  },
  {
   "cell_type": "markdown",
   "metadata": {},
   "source": [
    "**Covariance estimation**  \n",
    "Note that all the previous equations use the real covariance matrices $V_{G2}, V_G, V$. These matrices are unkown and need to be estimated to be able to use the previous equations. These estimations are complex and several techniques, listed in [4], can be used."
   ]
  },
  {
   "cell_type": "markdown",
   "metadata": {},
   "source": [
    "#### 3-level GLM model\n",
    "\n",
    "A 3-level GLM use the exact same idea as 2-level GLM except that the subjects' maps are now estimated from time series instead. The process is summarized in figure [7](#MGLM_fig)."
   ]
  },
  {
   "cell_type": "markdown",
   "metadata": {},
   "source": [
    "<a id='MGLM_fig'></a>\n",
    "![MGLM](resource/Hierarchical_model.png)"
   ]
  },
  {
   "cell_type": "markdown",
   "metadata": {},
   "source": [
    "**Figure 7:** 3-level multilevel GLM diagram, where subjects' maps are estimated from time series in a voxel-wise manner. The yellow variance maps represent the variance of the estimates at each level of the GLM."
   ]
  },
  {
   "cell_type": "markdown",
   "metadata": {},
   "source": [
    "\n",
    "To see what results are obtained from multilevel GLM, please see the [NiMARE](#NIMARE) use."
   ]
  },
  {
   "cell_type": "markdown",
   "metadata": {},
   "source": [
    "## Hypothesis testing"
   ]
  },
  {
   "cell_type": "markdown",
   "metadata": {},
   "source": [
    "Although more interesting than individual maps, the meta-analysis maps derived from the previous methods don't show their full potential. It remains to differentiate the true signal of the noise given a tolerance $\\alpha$ using hypothesis testing. One way of doing this is to use the permutation testing method (note that other methods exist such as Monte Carlo simulations)."
   ]
  },
  {
   "cell_type": "markdown",
   "metadata": {},
   "source": [
    "#### Permutation testing\n",
    "The key idea of permutation testing is to permute the labels of the experiments to generate a null distribution. From the former can be derived an appropriate threshold at the desired tolerance rate.\n",
    "\n",
    "**Which labels are we talking about?**  \n",
    "\n",
    "Let's say you have a number $N_a$ of studies related to the same topic (e.g language) and a number $N_b$ of studies dealing with varied other topics. To generate a null distribution, permute randomly the labels of the studies (e.g language related and non language related studies) and apply the same meta-analysis method on the newly created set of $N_a$ studies labelled as your initial topic (e.g language). By doing so a large number of times, the null distribution is derived.\n",
    "\n",
    "**What if I don't have any studies unrelated to my topic of interest?**\n",
    "\n",
    "A way of using the permutation testing method even with studies on a single topic is to generate false unrelated studies by taking the opposite of the contrasts (since contrasts follows a normal distribution under the null hypothesis, which is sign invariant). Instead of permuting labels with another set of unrelated studies that we don't have, we randomly flip the sign of studies in our original set. Then, we apply the same meta-analysis method on the newly created set of studies. By doing so a large number of times, the null distribution is derived.\n",
    "\n",
    "**What do we do after obtaining the null distribution?**  \n",
    "\n",
    "Once the null distribution is obtained, two well-known error controls are the False Discovery Rate (FDR) and Family Wise Error Rate (FWER). Whether to prefer the FDR or FWER control rates depends on the meta-analysis method used and will be discussed later.\n",
    "\n",
    "**FDR or FWER?**\n",
    "Here are some recommandations found in the litterature [1].\n",
    "\n",
    "| Method | Error rate  |\n",
    "|:--------:|:-------------:|\n",
    "|ALE     | FDR         |\n",
    "|KDA     | FWER        |\n",
    "|MKDA    | FWER (recommended) or FDR|\n"
   ]
  },
  {
   "cell_type": "markdown",
   "metadata": {},
   "source": [
    "<a id='NIMARE'></a>\n",
    "# Meta-analysis using NiMARE [5]"
   ]
  },
  {
   "cell_type": "markdown",
   "metadata": {},
   "source": [
    "The purpose of this section is to show the use of NiMARE to perform the meta-analysis techniques we just presented in the notebook."
   ]
  },
  {
   "cell_type": "markdown",
   "metadata": {},
   "source": [
    "## 1. Build the NiMARE.Dataset object"
   ]
  },
  {
   "cell_type": "markdown",
   "metadata": {},
   "source": [
    "In order to be able to use the NiMARE package, we need a little more work done on the data to be accepted as input by NiMARE. The following functions build the dictionnary input used buy NiMARE. "
   ]
  },
  {
   "cell_type": "code",
   "execution_count": null,
   "metadata": {},
   "outputs": [],
   "source": [
    "# The following functions are used only to convert the input images to a NiMARE input format for IBMA analysis. \n",
    "# These functions also extract peaks coordinates from full images for CBMA analysis.\n",
    "# The understanding of these functions is not crucial.\n",
    "def get_sub_dict(XYZ, path_dict, sample_size):\n",
    "    \"\"\"\n",
    "    Build sub dictionnary of a study using the nimare structure.\n",
    "\n",
    "    Args:\n",
    "        XYZ (tuple): Size 3 tuple of list storing the X Y Z coordinates.\n",
    "        path_dict (dict): Dict which has map name ('t', 'z', 'con', 'se')\n",
    "            as keys and absolute path to the image as values.\n",
    "        sample_size (int): Number of subjects.\n",
    "\n",
    "    Returns:\n",
    "        (dict): Dictionary storing the coordinates for a\n",
    "            single study using the Nimare structure.\n",
    "\n",
    "    \"\"\"\n",
    "    d = {\n",
    "        'contrasts': {\n",
    "            '0': {\n",
    "                'metadata': {'sample_sizes': 119}\n",
    "            }\n",
    "        }\n",
    "    }\n",
    "\n",
    "    if XYZ is not None:\n",
    "        d['contrasts']['0']['coords'] = {\n",
    "                    'x': list(XYZ[0]),\n",
    "                    'y': list(XYZ[1]),\n",
    "                    'z': list(XYZ[2]),\n",
    "                    'space': 'MNI'\n",
    "                    }\n",
    "        d['contrasts']['0']['sample_sizes'] = sample_size\n",
    "\n",
    "    if path_dict is not None:\n",
    "        d['contrasts']['0']['images'] = path_dict\n",
    "\n",
    "    return d\n",
    "\n",
    "\n",
    "def extract_from_paths(paths, sample_size, data=['coord', 'path'],\n",
    "                       threshold=1.96):\n",
    "    \"\"\"\n",
    "    Extract data (coordinates, paths...) from the data and put it in a\n",
    "        dictionnary using Nimare structure.\n",
    "\n",
    "    Args:\n",
    "        path_dict (dict): Dict which keys are study names and values\n",
    "            absolute paths (string).\n",
    "        data (list): Data to extract. 'coord' and 'path' available.\n",
    "        sample_size (int): Number of subjects in the experiment. \n",
    "        threshold (float): value below threshold are ignored. Used for\n",
    "            peak detection.\n",
    "\n",
    "    Returns:\n",
    "        (dict): Dictionnary storing the coordinates using the Nimare\n",
    "            structure.\n",
    "\n",
    "    \"\"\"\n",
    "\n",
    "    # Computing a new dataset dictionary\n",
    "    def extract_pool(path):\n",
    "        \"\"\"Extract activation for multiprocessing.\"\"\"\n",
    "        print(f'Extracting {path}...')\n",
    "\n",
    "        XYZ = None\n",
    "        if 'coord' in data:\n",
    "            XYZ = get_activations(path, threshold, space='pos')\n",
    "            if XYZ is None:\n",
    "                return\n",
    "\n",
    "        if 'path' in data:\n",
    "            base, filename = ntpath.split(path)\n",
    "            file, ext = filename.split('.', 1)\n",
    "\n",
    "            path_dict = {'z': path}\n",
    "            for map_type in ['t', 'con', 'se']:\n",
    "                file_path = f'{base}/{file}_{map_type}.{ext}'\n",
    "                if os.path.isfile(file_path):\n",
    "                    path_dict[map_type] = file_path\n",
    "\n",
    "            return get_sub_dict(XYZ, path_dict, sample_size)\n",
    "\n",
    "        if XYZ is not None:\n",
    "            return get_sub_dict(XYZ, None, sample_size)\n",
    "\n",
    "        return\n",
    "\n",
    "    n_jobs = multiprocessing.cpu_count()\n",
    "    res = Parallel(n_jobs=n_jobs, backend='threading')(\n",
    "        delayed(extract_pool)(path) for path in paths)\n",
    "\n",
    "    # Removing potential None values\n",
    "    res = list(filter(None, res))\n",
    "    \n",
    "    # Merging all dictionaries\n",
    "    return {k: v for k, v in enumerate(res)}"
   ]
  },
  {
   "cell_type": "code",
   "execution_count": null,
   "metadata": {
    "scrolled": true
   },
   "outputs": [],
   "source": [
    "ds_dict = extract_from_paths(img_paths, data=['path', 'coord'], sample_size=119, threshold=1.96)"
   ]
  },
  {
   "cell_type": "code",
   "execution_count": null,
   "metadata": {},
   "outputs": [],
   "source": [
    "print(ds_dict)"
   ]
  },
  {
   "cell_type": "markdown",
   "metadata": {},
   "source": [
    "## Run meta-analysis on data"
   ]
  },
  {
   "cell_type": "code",
   "execution_count": null,
   "metadata": {},
   "outputs": [],
   "source": [
    "def run_ALE(ds_dict):\n",
    "    \"\"\"Run ALE on given data.\"\"\"\n",
    "    ds = Dataset(ds_dict)\n",
    "    ma = nimare.meta.cbma.ale.ALE()\n",
    "    res = ma.fit(ds)\n",
    "\n",
    "    img_ale = res.get_map('ale')\n",
    "    img_p = res.get_map('p')\n",
    "    img_z = res.get_map('z')\n",
    "\n",
    "    return img_ale, img_p, img_z\n",
    "\n",
    "\n",
    "def run_KDA(ds_dict):\n",
    "    \"\"\"Run KDA on given data.\"\"\"\n",
    "    ds = Dataset(ds_dict)\n",
    "    ma = nimare.meta.cbma.mkda.KDA()\n",
    "    res = ma.fit(ds)\n",
    "\n",
    "    return res.get_map('of')\n",
    "\n",
    "\n",
    "def run_MKDA(ds_dict):\n",
    "    \"\"\"Run KDA on given data.\"\"\"\n",
    "    ds = Dataset(ds_dict)\n",
    "    ma = nimare.meta.cbma.mkda.MKDADensity()\n",
    "    res = ma.fit(ds)\n",
    "\n",
    "    return res.get_map('of')\n",
    "\n",
    "\n",
    "def run_MFX_GLM(ds_dict):\n",
    "    \"\"\"Run MFX_GLM on given data.\"\"\"\n",
    "    # Check if FSL is installed\n",
    "    if os.environ.get('FSLDIR', None) is None:\n",
    "        warnings.warn('FSL not installed, skipping MFX_GLM.')\n",
    "        return None\n",
    "    \n",
    "    # Delete NiMare's temporary mfx_glm folder if it is in the current directory.\n",
    "    # NiMare makes this folder while running the MFX_GLM() function, and it \n",
    "    # deletes the folder afterwards. But if you interrupt the process, the folder\n",
    "    # will not be deleted, and it will not run again until it is deleted.   \n",
    "    folder = './mfx_glm'\n",
    "    if osp.exists(folder) and osp.isdir(folder):\n",
    "        shutil.rmtree(folder)\n",
    "    \n",
    "    ds = Dataset(ds_dict)\n",
    "    ma = nimare.meta.ibma.MFX_GLM()\n",
    "    res = ma.fit(ds)\n",
    "\n",
    "    return res.get_map('t')\n",
    "\n",
    "\n",
    "def run_Fishers(ds_dict):\n",
    "    \"\"\"Run Fishers on given data.\"\"\"\n",
    "    ds = Dataset(ds_dict)\n",
    "    ma = nimare.meta.ibma.Fishers()\n",
    "    res = ma.fit(ds)\n",
    "\n",
    "    return res.get_map('z')\n",
    "\n",
    "\n",
    "def run_Stouffers(ds_dict):\n",
    "    \"\"\"Run Stouffers on given data.\"\"\"\n",
    "    ds = Dataset(ds_dict)\n",
    "    ma = nimare.meta.ibma.Stouffers()\n",
    "    res = ma.fit(ds)\n",
    "\n",
    "    return res.get_map('z')\n",
    "\n",
    "\n",
    "def fdr_threshold(img_list, img_p, q=0.05):\n",
    "    \"\"\"Compute FDR and threshold same-sized images.\"\"\"\n",
    "    arr_list = [copy.copy(img.get_fdata()) for img in img_list]\n",
    "    arr_p = img_p.get_fdata()\n",
    "    aff = img_p.affine\n",
    "\n",
    "    fdr = nimare.stats.fdr(arr_p.ravel(), q=q)\n",
    "\n",
    "    for arr in arr_list:\n",
    "        arr[arr_p > fdr] = 0\n",
    "\n",
    "    res_list = [nib.Nifti1Image(arr, aff) for arr in arr_list]\n",
    "\n",
    "    return res_list"
   ]
  },
  {
   "cell_type": "code",
   "execution_count": null,
   "metadata": {
    "scrolled": true
   },
   "outputs": [],
   "source": [
    "img_ale, img_p, img_z = run_ALE(ds_dict)\n",
    "img_kda = run_KDA(ds_dict)\n",
    "img_mkda = run_MKDA(ds_dict)\n",
    "img_z_F = run_Fishers(ds_dict)\n",
    "img_z_S = run_Stouffers(ds_dict)\n",
    "img_t_MFX = run_MFX_GLM(ds_dict)"
   ]
  },
  {
   "cell_type": "code",
   "execution_count": null,
   "metadata": {},
   "outputs": [],
   "source": [
    "img_ale_thr, img_p_thr, img_z_thr = fdr_threshold([img_ale, img_p, img_z], img_p)"
   ]
  },
  {
   "cell_type": "markdown",
   "metadata": {},
   "source": [
    "## Print results"
   ]
  },
  {
   "cell_type": "code",
   "execution_count": null,
   "metadata": {},
   "outputs": [],
   "source": [
    "meta_analysis = { \n",
    "    'ALE': img_ale,\n",
    "    'ALE thresholded': img_ale_thr,\n",
    "    'KDA': img_kda,\n",
    "    'MKDA': img_mkda,\n",
    "    'z Fishers': img_z_F,\n",
    "    'z Stouffers': img_z_S,\n",
    "    't MFX': img_t_MFX,\n",
    "}"
   ]
  },
  {
   "cell_type": "code",
   "execution_count": null,
   "metadata": {
    "scrolled": false
   },
   "outputs": [],
   "source": [
    "for name, img in meta_analysis.items():\n",
    "    if img is not None:\n",
    "        plotting.plot_stat_map(img, title=name, figure=plt.figure(figsize=(10,5)))"
   ]
  },
  {
   "cell_type": "markdown",
   "metadata": {},
   "source": [
    "# References"
   ]
  },
  {
   "cell_type": "markdown",
   "metadata": {},
   "source": [
    "[1] Meta-analysis of functional neuroimaging data: current and future directions  \n",
    "Tor D. Wager, Martin Lindquist, and Lauren Kaplan\n",
    "\n",
    "[2] Meta-analysis of neuroimaging data: A comparison of image-based and coordinate-based pooling of studies  \n",
    "    Gholamreza Salimi-Khorshidi, Stephen M. Smith, John R. Keltner, Tor D. Wager, Thomas E. Nichols \n",
    "    \n",
    "[3] Combining Brains: A Survey of Methods for Statistical Pooling of Information  \n",
    "    Nicole A. Lazar, Beatriz Luna, John A. Sweeney, and William F. Eddy\n",
    "    \n",
    "[4] General multilevel linear modeling for group analysis in FMRI  \n",
    "Christian F. Beckmann, Mark Jenkinson, and Stephen M. Smith\n",
    "\n",
    "[5] NiMARE: https://github.com/neurostuff/NiMARE\n",
    "\n",
    "[6] Choosing between methods of combining p-values, N. A. Heard, P. Rubin-Delanchy\n",
    "\n",
    "[7] Whitlock, M. C. “Combining probability from independent tests: the weighted Z-method is superior to Fisher’s approach.” Journal of Evolutionary Biology 18, no. 5 (2005): 1368-1373.\n",
    "\n",
    "[8] Zaykin, Dmitri V. “Optimally weighted Z-test is a powerful method for combining probabilities in meta-analysis.” Journal of Evolutionary Biology 24, no. 8 (2011): 1836-1841."
   ]
  }
 ],
 "metadata": {
  "kernelspec": {
   "display_name": "Python 3",
   "language": "python",
   "name": "python3"
  },
  "language_info": {
   "codemirror_mode": {
    "name": "ipython",
    "version": 3
   },
   "file_extension": ".py",
   "mimetype": "text/x-python",
   "name": "python",
   "nbconvert_exporter": "python",
   "pygments_lexer": "ipython3",
   "version": "3.7.3"
  },
  "toc": {
   "nav_menu": {},
   "number_sections": true,
   "sideBar": true,
   "skip_h1_title": false,
   "toc_cell": false,
   "toc_position": {},
   "toc_section_display": "block",
   "toc_window_display": false
  }
 },
 "nbformat": 4,
 "nbformat_minor": 2
}
